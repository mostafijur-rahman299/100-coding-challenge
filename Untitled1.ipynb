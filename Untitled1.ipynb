{
 "cells": [
  {
   "cell_type": "code",
   "execution_count": 53,
   "id": "4e78997c",
   "metadata": {},
   "outputs": [
    {
     "name": "stdout",
     "output_type": "stream",
     "text": [
      "17 1\n",
      "25 1\n",
      "29 1\n",
      "31 1\n",
      "32 1\n"
     ]
    },
    {
     "data": {
      "text/plain": [
       "33"
      ]
     },
     "execution_count": 53,
     "metadata": {},
     "output_type": "execute_result"
    }
   ],
   "source": [
    "import sys\n",
    "\n",
    "arr = [5,3,6,7,1,2,33,8,11,4]\n",
    "k = 0\n",
    "\n",
    "\n",
    "def get_low_high(nums):\n",
    "    low, high = sys.maxsize, -sys.maxsize\n",
    "    \n",
    "    for num in nums:\n",
    "        low = min(low, num)\n",
    "        high = max(high, num)\n",
    "    \n",
    "    return low, high\n",
    "\n",
    "def count(nums, num):\n",
    "    cnt = 0\n",
    "    for index in range(len(nums)):\n",
    "        if num < nums[index]:\n",
    "            cnt += 1\n",
    "    return cnt\n",
    "\n",
    "\n",
    "def bns_algorithm(nums, k):\n",
    "    low, high = get_low_high(nums)\n",
    "    \n",
    "    while high > low:\n",
    "        mid = (high + low) // 2\n",
    "        print(mid, count(nums, mid))\n",
    "        if count(nums, mid) > k:\n",
    "            low = mid + 1\n",
    "        else:\n",
    "            high = mid\n",
    "    return low\n",
    "\n",
    "bns_algorithm(arr, k)\n"
   ]
  },
  {
   "cell_type": "code",
   "execution_count": null,
   "id": "bde4cf36",
   "metadata": {},
   "outputs": [],
   "source": []
  },
  {
   "cell_type": "code",
   "execution_count": null,
   "id": "2618a662",
   "metadata": {},
   "outputs": [],
   "source": []
  }
 ],
 "metadata": {
  "kernelspec": {
   "display_name": "Python 3 (ipykernel)",
   "language": "python",
   "name": "python3"
  },
  "language_info": {
   "codemirror_mode": {
    "name": "ipython",
    "version": 3
   },
   "file_extension": ".py",
   "mimetype": "text/x-python",
   "name": "python",
   "nbconvert_exporter": "python",
   "pygments_lexer": "ipython3",
   "version": "3.10.12"
  }
 },
 "nbformat": 4,
 "nbformat_minor": 5
}
