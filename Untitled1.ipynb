{
 "cells": [
  {
   "cell_type": "code",
   "execution_count": 10,
   "id": "31b6c7d9",
   "metadata": {},
   "outputs": [],
   "source": [
    "s1 = \"ABCD\"\n",
    "s2 = \"BCDA\"\n",
    "\n",
    "s1_indices = {}\n",
    "index = 0\n",
    "for char in s1:\n",
    "    s1_indices[char]=index\n",
    "    index += 1\n",
    "\n",
    "current_char = 0\n",
    "next_char = current_char + 1\n",
    "\n",
    "while next_char < len(s2):\n",
    "        \n",
    "    if s1_indices[s2[current_char]] == 0:\n",
    "        if s1_indices[s2[next_char]] != 1 and s1_indices[s2[next_char]] != len(s1)-1:\n",
    "            print(\"Not a rotation1\")\n",
    "            break\n",
    "    elif s1_indices[s2[current_char]] == len(s1)-1:\n",
    "        if s1_indices[s2[next_char]] != 0 and s1_indices[s2[next_char]] != s1_indices[s2[current_char]] - 1:\n",
    "            print(\"Not a rotation2\")\n",
    "            break\n",
    "    else:\n",
    "        if s1_indices[s2[current_char]] != s1_indices[s2[next_char]] + 1 \\\n",
    "        and s1_indices[s2[current_char]] != s1_indices[s2[next_char]] - 1:\n",
    "            print(\"Not a rotation3\")\n",
    "            break\n",
    "            \n",
    "    \n",
    "    current_char += 1\n",
    "    next_char += 1"
   ]
  },
  {
   "cell_type": "code",
   "execution_count": null,
   "id": "4fcbb2fc",
   "metadata": {},
   "outputs": [],
   "source": []
  }
 ],
 "metadata": {
  "kernelspec": {
   "display_name": "Python 3 (ipykernel)",
   "language": "python",
   "name": "python3"
  },
  "language_info": {
   "codemirror_mode": {
    "name": "ipython",
    "version": 3
   },
   "file_extension": ".py",
   "mimetype": "text/x-python",
   "name": "python",
   "nbconvert_exporter": "python",
   "pygments_lexer": "ipython3",
   "version": "3.10.12"
  }
 },
 "nbformat": 4,
 "nbformat_minor": 5
}
