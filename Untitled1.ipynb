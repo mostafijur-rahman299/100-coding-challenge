{
 "cells": [
  {
   "cell_type": "code",
   "execution_count": 1,
   "id": "47003223",
   "metadata": {},
   "outputs": [
    {
     "name": "stdout",
     "output_type": "stream",
     "text": [
      "7\n"
     ]
    }
   ],
   "source": [
    "a = [-2, -3, 4, -1, -2, 1, 5, -3]\n",
    "\n",
    "max_ending_here = 0\n",
    "max_so_far = float(\"-inf\")\n",
    "\n",
    "for item in a:\n",
    "    max_ending_here += item\n",
    "    if max_ending_here > max_so_far:\n",
    "        max_so_far = max_ending_here\n",
    "    if max_ending_here < 0:\n",
    "        max_ending_here = 0\n",
    "\n",
    "        \n",
    "print(max_so_far)"
   ]
  },
  {
   "cell_type": "code",
   "execution_count": null,
   "id": "36de1ff4",
   "metadata": {},
   "outputs": [],
   "source": []
  }
 ],
 "metadata": {
  "kernelspec": {
   "display_name": "Python 3 (ipykernel)",
   "language": "python",
   "name": "python3"
  },
  "language_info": {
   "codemirror_mode": {
    "name": "ipython",
    "version": 3
   },
   "file_extension": ".py",
   "mimetype": "text/x-python",
   "name": "python",
   "nbconvert_exporter": "python",
   "pygments_lexer": "ipython3",
   "version": "3.10.12"
  }
 },
 "nbformat": 4,
 "nbformat_minor": 5
}
