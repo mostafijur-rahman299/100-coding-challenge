{
 "cells": [
  {
   "cell_type": "code",
   "execution_count": 2,
   "id": "b96ce820",
   "metadata": {},
   "outputs": [
    {
     "name": "stdout",
     "output_type": "stream",
     "text": [
      "5\n"
     ]
    }
   ],
   "source": [
    "prices = [7, 1, 5, 3, 6, 4]\n",
    "\n",
    "buy = 0\n",
    "sell = 1\n",
    "max_profit = 0\n",
    "\n",
    "while sell < len(prices):\n",
    "    if prices[buy] < prices[sell]:\n",
    "        profit = prices[sell]-prices[buy]\n",
    "        if profit > max_profit:\n",
    "            max_profit = profit\n",
    "    else:\n",
    "        buy = sell\n",
    "    \n",
    "    sell += 1\n",
    "    \n",
    "print(max_profit)"
   ]
  },
  {
   "cell_type": "code",
   "execution_count": null,
   "id": "c2d129b0",
   "metadata": {},
   "outputs": [],
   "source": []
  }
 ],
 "metadata": {
  "kernelspec": {
   "display_name": "Python 3 (ipykernel)",
   "language": "python",
   "name": "python3"
  },
  "language_info": {
   "codemirror_mode": {
    "name": "ipython",
    "version": 3
   },
   "file_extension": ".py",
   "mimetype": "text/x-python",
   "name": "python",
   "nbconvert_exporter": "python",
   "pygments_lexer": "ipython3",
   "version": "3.10.12"
  }
 },
 "nbformat": 4,
 "nbformat_minor": 5
}
