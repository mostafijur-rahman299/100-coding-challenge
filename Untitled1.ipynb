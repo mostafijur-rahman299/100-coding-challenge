{
 "cells": [
  {
   "cell_type": "code",
   "execution_count": 5,
   "id": "4e08e1a7",
   "metadata": {},
   "outputs": [
    {
     "name": "stdout",
     "output_type": "stream",
     "text": [
      "1\n",
      "[0, 1, 1, 1, 2, 1, 1]\n"
     ]
    }
   ],
   "source": [
    "arr = [7, 3, 4, 5, 5, 6, 2]\n",
    "\n",
    "# Find missing\n",
    "for i in range(1, len(arr)+1):\n",
    "    if i not in arr:\n",
    "        print(i)\n",
    "        \n",
    "# Find repeating\n",
    "n = len(arr)\n",
    "temp = [0] * n\n",
    "for i in range(n):\n",
    "    temp[arr[i] - 1] += 1\n",
    "    \n",
    "print(temp)"
   ]
  },
  {
   "cell_type": "code",
   "execution_count": null,
   "id": "84ad34bd",
   "metadata": {},
   "outputs": [],
   "source": []
  }
 ],
 "metadata": {
  "kernelspec": {
   "display_name": "Python 3 (ipykernel)",
   "language": "python",
   "name": "python3"
  },
  "language_info": {
   "codemirror_mode": {
    "name": "ipython",
    "version": 3
   },
   "file_extension": ".py",
   "mimetype": "text/x-python",
   "name": "python",
   "nbconvert_exporter": "python",
   "pygments_lexer": "ipython3",
   "version": "3.10.12"
  }
 },
 "nbformat": 4,
 "nbformat_minor": 5
}
