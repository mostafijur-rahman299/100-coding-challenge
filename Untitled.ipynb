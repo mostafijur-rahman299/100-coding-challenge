{
 "cells": [
  {
   "cell_type": "code",
   "execution_count": 5,
   "id": "0abb6e73",
   "metadata": {},
   "outputs": [
    {
     "name": "stdout",
     "output_type": "stream",
     "text": [
      "['(())', '()()']\n"
     ]
    }
   ],
   "source": [
    "stack = []\n",
    "res = []\n",
    "n = 2\n",
    "\n",
    "def backtrack(openN, closeN):\n",
    "    if openN == closeN == n:\n",
    "        res.append(\"\".join(stack))\n",
    "        return\n",
    "\n",
    "    if openN < n:\n",
    "        stack.append(\"(\")\n",
    "        backtrack(openN + 1, closeN)\n",
    "        stack.pop()\n",
    "    if closeN < openN:\n",
    "        stack.append(\")\")\n",
    "        backtrack(openN, closeN+1)\n",
    "        stack.pop()\n",
    "\n",
    "backtrack(0, 0)\n",
    "\n",
    "print(res)"
   ]
  },
  {
   "cell_type": "code",
   "execution_count": null,
   "id": "1da5f3d9-0fad-478d-96c3-26b3d4fa3d2b",
   "metadata": {},
   "outputs": [],
   "source": []
  }
 ],
 "metadata": {
  "kernelspec": {
   "display_name": "Python 3 (ipykernel)",
   "language": "python",
   "name": "python3"
  },
  "language_info": {
   "codemirror_mode": {
    "name": "ipython",
    "version": 3
   },
   "file_extension": ".py",
   "mimetype": "text/x-python",
   "name": "python",
   "nbconvert_exporter": "python",
   "pygments_lexer": "ipython3",
   "version": "3.10.12"
  }
 },
 "nbformat": 4,
 "nbformat_minor": 5
}
