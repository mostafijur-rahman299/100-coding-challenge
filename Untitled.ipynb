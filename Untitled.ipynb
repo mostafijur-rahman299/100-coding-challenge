{
 "cells": [
  {
   "cell_type": "code",
   "execution_count": 34,
   "id": "426f6d62",
   "metadata": {},
   "outputs": [
    {
     "name": "stdout",
     "output_type": "stream",
     "text": [
      "1\n"
     ]
    }
   ],
   "source": [
    "nums = [1,4,4]\n",
    "target = 4\n",
    "\n",
    "left = 0\n",
    "sum_of_sub_array = 0\n",
    "min_length = float(\"inf\")\n",
    "\n",
    "for end in range(len(nums)):\n",
    "    sum_of_sub_array += nums[end]\n",
    "    \n",
    "    while sum_of_sub_array >= target:\n",
    "        min_length = min(sub_arr_count, end-start + 1)\n",
    "        sum_of_sub_array -= nums[start]\n",
    "        start += 1\n",
    "        \n",
    "print(sub_arr_count)"
   ]
  },
  {
   "cell_type": "code",
   "execution_count": null,
   "id": "4695454b",
   "metadata": {},
   "outputs": [],
   "source": []
  },
  {
   "cell_type": "code",
   "execution_count": null,
   "id": "39baa0f7",
   "metadata": {},
   "outputs": [],
   "source": []
  }
 ],
 "metadata": {
  "kernelspec": {
   "display_name": "Python 3 (ipykernel)",
   "language": "python",
   "name": "python3"
  },
  "language_info": {
   "codemirror_mode": {
    "name": "ipython",
    "version": 3
   },
   "file_extension": ".py",
   "mimetype": "text/x-python",
   "name": "python",
   "nbconvert_exporter": "python",
   "pygments_lexer": "ipython3",
   "version": "3.10.12"
  }
 },
 "nbformat": 4,
 "nbformat_minor": 5
}
