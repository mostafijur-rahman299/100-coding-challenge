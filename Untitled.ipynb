{
 "cells": [
  {
   "cell_type": "code",
   "execution_count": 19,
   "id": "426f6d62",
   "metadata": {},
   "outputs": [
    {
     "name": "stdout",
     "output_type": "stream",
     "text": [
      "2 0 0\n",
      "2 1 3\n",
      "2 2 6\n",
      "9\n"
     ]
    }
   ],
   "source": [
    "matrix = [\n",
    "    [1,5,9],\n",
    "    [10,11,13],\n",
    "    [12,13,15]\n",
    "]\n",
    "k = 8\n",
    "\n",
    "def count_smaller_or_equal(matrix, target):\n",
    "    count = 0\n",
    "    n = len(matrix)\n",
    "    i = n - 1\n",
    "    j = 0\n",
    "    \n",
    "    while i >= 0 and j < n:\n",
    "        if matrix[i][j] <= target:\n",
    "            count += i + 1\n",
    "            j += 1\n",
    "        else:\n",
    "            i -= 1\n",
    "    return count\n",
    "\n",
    "def kth_smallest2(matrix, k):\n",
    "    n = len(matrix)\n",
    "    low = matrix[0][0]\n",
    "    high = matrix[n - 1][n - 1]\n",
    "\n",
    "    while low < high:\n",
    "        mid = (low + high) // 2\n",
    "        count = count_smaller_or_equal(matrix, mid)\n",
    "        if count < k:\n",
    "            low = mid + 1\n",
    "        else:\n",
    "            high = mid\n",
    "    return low\n",
    "\n",
    "kth_smallest2(matrix, k)\n"
   ]
  },
  {
   "cell_type": "code",
   "execution_count": null,
   "id": "0abb6e73",
   "metadata": {},
   "outputs": [],
   "source": [
    " "
   ]
  },
  {
   "cell_type": "code",
   "execution_count": null,
   "id": "4f2a7e83-c352-4e71-9aa3-ba896239aa43",
   "metadata": {},
   "outputs": [],
   "source": []
  }
 ],
 "metadata": {
  "kernelspec": {
   "display_name": "Python 3 (ipykernel)",
   "language": "python",
   "name": "python3"
  },
  "language_info": {
   "codemirror_mode": {
    "name": "ipython",
    "version": 3
   },
   "file_extension": ".py",
   "mimetype": "text/x-python",
   "name": "python",
   "nbconvert_exporter": "python",
   "pygments_lexer": "ipython3",
   "version": "3.10.12"
  }
 },
 "nbformat": 4,
 "nbformat_minor": 5
}
