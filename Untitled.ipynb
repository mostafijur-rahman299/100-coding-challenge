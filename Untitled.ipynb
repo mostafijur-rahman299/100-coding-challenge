{
 "cells": [
  {
   "cell_type": "code",
   "execution_count": 1,
   "id": "426f6d62",
   "metadata": {},
   "outputs": [
    {
     "ename": "SyntaxError",
     "evalue": "'return' outside function (2576002552.py, line 27)",
     "output_type": "error",
     "traceback": [
      "\u001b[0;36m  Cell \u001b[0;32mIn[1], line 27\u001b[0;36m\u001b[0m\n\u001b[0;31m    return min(a_right, b_right)\u001b[0m\n\u001b[0m    ^\u001b[0m\n\u001b[0;31mSyntaxError\u001b[0m\u001b[0;31m:\u001b[0m 'return' outside function\n"
     ]
    }
   ],
   "source": [
    "nums1 = [1,3,5,6,7,8,11,13,14]\n",
    "nums2 = [3,4,5,6,8,10,12]\n",
    "\n",
    "total = len(nums1) + len(nums2)\n",
    "half = total // 2\n",
    "\n",
    "A, B = nums1, nums2\n",
    "\n",
    "if len(nums1) > len(nums2):\n",
    "    A, B = B, A\n",
    "\n",
    "l, r = 0, len(A) - 1\n",
    "\n",
    "while True:\n",
    "    i = (l + r) // 2\n",
    "    j = half - i - 2\n",
    "\n",
    "    a_left = A[i] if i >= 0 else float(\"-inf\")\n",
    "    a_right = A[i+1] if i < len(A) else float(\"inf\")\n",
    "    b_left = B[j] if i >= 0 else float(\"-inf\")\n",
    "    b_right = B[j+1] if i < len(B) else float(\"inf\")\n",
    "\n",
    "    # partition is correct\n",
    "    if a_left <= b_right and b_left <= a_right:\n",
    "        # odd\n",
    "        if total % 2:\n",
    "            return min(a_right, b_right)\n",
    "        return (min(a_left, b_left) + max(a_right, b_right)) / 2\n",
    "    elif a_left > b_right:\n",
    "        r = i - 1\n",
    "    else:\n",
    "        l = i + 1\n",
    "    \n"
   ]
  },
  {
   "cell_type": "code",
   "execution_count": null,
   "id": "0abb6e73",
   "metadata": {},
   "outputs": [],
   "source": [
    " "
   ]
  }
 ],
 "metadata": {
  "kernelspec": {
   "display_name": "Python 3 (ipykernel)",
   "language": "python",
   "name": "python3"
  },
  "language_info": {
   "codemirror_mode": {
    "name": "ipython",
    "version": 3
   },
   "file_extension": ".py",
   "mimetype": "text/x-python",
   "name": "python",
   "nbconvert_exporter": "python",
   "pygments_lexer": "ipython3",
   "version": "3.10.12"
  }
 },
 "nbformat": 4,
 "nbformat_minor": 5
}
