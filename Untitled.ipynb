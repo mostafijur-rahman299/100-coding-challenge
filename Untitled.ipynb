{
 "cells": [
  {
   "cell_type": "code",
   "execution_count": 8,
   "id": "f1e436f0",
   "metadata": {},
   "outputs": [
    {
     "name": "stdout",
     "output_type": "stream",
     "text": [
      "[6, 7, 33, 8, 11, 5, 4, 3, 1, 2]\n"
     ]
    }
   ],
   "source": [
    "arr = [5,3,6,7,1,2,33,8,11,4]\n",
    "k = 3\n",
    "\n",
    "def partition(arr, left, right):\n",
    "    pivot = arr[left]\n",
    "    i = left\n",
    "    \n",
    "    # Move left item to last\n",
    "    arr[left], arr[right] = arr[right], arr[left]\n",
    "    \n",
    "    for j in range(len(arr)):\n",
    "        if arr[j] > pivot:\n",
    "            arr[i], arr[j] = arr[j], arr[i]\n",
    "            i += 1\n",
    "            \n",
    "    # Pivot take it's accurate position\n",
    "    arr[i], arr[right] = arr[right], arr[i]\n",
    "    return i\n",
    "\n",
    "\n",
    "def quickselect(arr, low, high, k):\n",
    "    if low < high:\n",
    "        pi = partition(arr, low, high)\n",
    "        \n",
    "        if pi == k:\n",
    "            return arr[k]\n",
    "        elif pi > k:\n",
    "            quickselect(arr, low, pi-1, k)\n",
    "        else:\n",
    "            quickselect(arr, pi+1, high, k)\n",
    "    return -1"
   ]
  },
  {
   "cell_type": "code",
   "execution_count": null,
   "id": "933c0b7b",
   "metadata": {},
   "outputs": [],
   "source": []
  }
 ],
 "metadata": {
  "kernelspec": {
   "display_name": "Python 3 (ipykernel)",
   "language": "python",
   "name": "python3"
  },
  "language_info": {
   "codemirror_mode": {
    "name": "ipython",
    "version": 3
   },
   "file_extension": ".py",
   "mimetype": "text/x-python",
   "name": "python",
   "nbconvert_exporter": "python",
   "pygments_lexer": "ipython3",
   "version": "3.10.12"
  }
 },
 "nbformat": 4,
 "nbformat_minor": 5
}
