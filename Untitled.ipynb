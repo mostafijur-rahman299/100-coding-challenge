{
 "cells": [
  {
   "cell_type": "code",
   "execution_count": 1,
   "id": "426f6d62",
   "metadata": {},
   "outputs": [
    {
     "name": "stdout",
     "output_type": "stream",
     "text": [
      "[0, 0, 0, 0, 0, 0, 0, 0, 0, 0, 0, 0, 0, 0, 0, 0, 0, 0, 0, 0, 0, 0, 0, 0, 0, 0, 0, 0, 0, 0, 0, 0, 0, 0, 0, 0, 0, 0, 0, 0, 0, 0, 0, 0, 0, 0, 0, 0, 0, 0, 0, 0, 0, 0, 0, 0, 0, 0, 0, 0, 0, 0, 0, 0, 0, 1, 1, 1, 0, 0, 0, 0, 0, 0, 0, 0, 0, 0, 0, 0, 0, 0, 0, 0, 0, 0, 0, 0, 0, 0, 0, 0, 0, 0, 0, 0, 0, 0, 0, 0, 0, 0, 0, 0, 0, 0, 0, 0, 0, 0, 0, 0, 0, 0, 0, 0, 0, 0, 0, 0, 0, 0, 0, 0, 0, 0, 0, 0]\n"
     ]
    }
   ],
   "source": [
    "def minWindow(s, t):\n",
    "        if not s or not t or len(s) < len(t):\n",
    "            return \"\"\n",
    "\n",
    "        map = [0] * 128\n",
    "        count = len(t)\n",
    "        start = 0\n",
    "        end = 0\n",
    "        min_len = float('inf')\n",
    "        start_index = 0\n",
    "        \n",
    "        for char in t:\n",
    "            map[ord(char)] += 1\n",
    "\n",
    "        while end < len(s):\n",
    "            if map[ord(s[end])] > 0:\n",
    "                count -= 1\n",
    "                \n",
    "            map[ord(s[end])] -= 1\n",
    "            end += 1\n",
    "\n",
    "            while count == 0:\n",
    "                if end - start < min_len:\n",
    "                    start_index = start\n",
    "                    min_len = end - start\n",
    "\n",
    "                if map[ord(s[start])] == 0:\n",
    "                    count += 1\n",
    "                map[ord(s[start])] += 1\n",
    "                start += 1\n",
    "\n",
    "#         return \"\" if min_len == float('inf') else s[start_index:start_index + min_len]\n",
    "\n",
    "\n",
    "s = \"ADOBECODEBANC\"\n",
    "t = \"ABC\"\n",
    "\n",
    "minWindow(s, t)"
   ]
  },
  {
   "cell_type": "code",
   "execution_count": null,
   "id": "0abb6e73",
   "metadata": {},
   "outputs": [],
   "source": [
    " "
   ]
  }
 ],
 "metadata": {
  "kernelspec": {
   "display_name": "Python 3 (ipykernel)",
   "language": "python",
   "name": "python3"
  },
  "language_info": {
   "codemirror_mode": {
    "name": "ipython",
    "version": 3
   },
   "file_extension": ".py",
   "mimetype": "text/x-python",
   "name": "python",
   "nbconvert_exporter": "python",
   "pygments_lexer": "ipython3",
   "version": "3.10.12"
  }
 },
 "nbformat": 4,
 "nbformat_minor": 5
}
