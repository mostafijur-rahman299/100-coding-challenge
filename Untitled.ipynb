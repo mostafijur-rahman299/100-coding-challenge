{
 "cells": [
  {
   "cell_type": "code",
   "execution_count": 25,
   "id": "2b49332e",
   "metadata": {},
   "outputs": [
    {
     "name": "stdout",
     "output_type": "stream",
     "text": [
      "-1\n",
      "[3, 4, 7, 10, 15, 20]\n"
     ]
    }
   ],
   "source": [
    "arr = [7, 10, 4, 3, 20, 15]\n",
    "\n",
    "def partition(a, l, r):\n",
    "    i = l - 1\n",
    "    pivot = a[r]\n",
    "    \n",
    "    for j in range(l, r):\n",
    "        if a[j] < pivot:\n",
    "            i += 1\n",
    "            a[i], a[j] = a[j], a[i]\n",
    "            \n",
    "    a[i+1], a[r] = a[r], a[i+1]\n",
    "    return i+1\n",
    "\n",
    "def quick_select(arr, low, high):\n",
    "    if low < high:\n",
    "        pi = partition(arr, low, high)\n",
    "        quick_select(arr, low, pi-1)\n",
    "        quick_select(arr, pi+1, high)\n",
    "    return -1\n",
    "        \n",
    "print(quick_select(arr, 0, len(arr)-1))\n",
    "\n",
    "print(arr)"
   ]
  },
  {
   "cell_type": "code",
   "execution_count": null,
   "id": "6cd0c90a",
   "metadata": {},
   "outputs": [],
   "source": []
  }
 ],
 "metadata": {
  "kernelspec": {
   "display_name": "Python 3 (ipykernel)",
   "language": "python",
   "name": "python3"
  },
  "language_info": {
   "codemirror_mode": {
    "name": "ipython",
    "version": 3
   },
   "file_extension": ".py",
   "mimetype": "text/x-python",
   "name": "python",
   "nbconvert_exporter": "python",
   "pygments_lexer": "ipython3",
   "version": "3.10.12"
  }
 },
 "nbformat": 4,
 "nbformat_minor": 5
}
