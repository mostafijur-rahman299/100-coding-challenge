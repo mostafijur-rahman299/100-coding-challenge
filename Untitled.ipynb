{
 "cells": [
  {
   "cell_type": "code",
   "execution_count": 9,
   "id": "bd14c2c8",
   "metadata": {},
   "outputs": [
    {
     "name": "stdout",
     "output_type": "stream",
     "text": [
      "[24, 12, 8, 6]\n"
     ]
    }
   ],
   "source": [
    "nums = [1,2,3,4]\n",
    "answers = []\n",
    "\n",
    "left = []\n",
    "right = []\n",
    "\n",
    "# Product of left for every item except self\n",
    "for i in range(len(nums)):\n",
    "    if i == 0:\n",
    "        left.append(1)\n",
    "        continue\n",
    "        \n",
    "    left_pro = left[len(left)-1] * nums[i-1]\n",
    "    left.append(left_pro)\n",
    "\n",
    "# Product of right for every item except self\n",
    "for j in range(len(nums)-1, -1, -1):\n",
    "    if j == len(nums)-1:\n",
    "        right.insert(0, 1)\n",
    "        continue\n",
    "        \n",
    "    right_pro = right[0] * nums[j+1]\n",
    "    right.insert(0, right_pro)\n",
    "    \n",
    "# Combine left and right product\n",
    "for k in range(len(nums)):\n",
    "    answers.append(left[k]*right[k])\n",
    "\n",
    "    \n",
    "print(answers)"
   ]
  },
  {
   "cell_type": "code",
   "execution_count": null,
   "id": "827ba06e",
   "metadata": {},
   "outputs": [],
   "source": []
  }
 ],
 "metadata": {
  "kernelspec": {
   "display_name": "Python 3 (ipykernel)",
   "language": "python",
   "name": "python3"
  },
  "language_info": {
   "codemirror_mode": {
    "name": "ipython",
    "version": 3
   },
   "file_extension": ".py",
   "mimetype": "text/x-python",
   "name": "python",
   "nbconvert_exporter": "python",
   "pygments_lexer": "ipython3",
   "version": "3.10.12"
  }
 },
 "nbformat": 4,
 "nbformat_minor": 5
}
