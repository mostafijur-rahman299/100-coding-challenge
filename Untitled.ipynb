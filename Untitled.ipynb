{
 "cells": [
  {
   "cell_type": "code",
   "execution_count": 59,
   "id": "bcb9391c",
   "metadata": {},
   "outputs": [
    {
     "name": "stdout",
     "output_type": "stream",
     "text": [
      "Kth Smallest Element is: 5\n"
     ]
    }
   ],
   "source": [
    "import heapq\n",
    "\n",
    "def kthSmallest(arr, K):\n",
    "    # Create a max heap (priority queue)\n",
    "    max_heap = []\n",
    "\n",
    "    # Iterate through the array elements\n",
    "    for num in arr:\n",
    "        # Push the negative of the current element onto the max heap\n",
    "        heapq.heappush(max_heap, -num)\n",
    "\n",
    "        # If the size of the max heap exceeds K, remove the largest element\n",
    "        if len(max_heap) > K:\n",
    "            heapq.heappop(max_heap)\n",
    "\n",
    "    # Return the Kth smallest element (top of the max heap, negated)\n",
    "    return -max_heap[0]\n",
    "\n",
    "\n",
    "arr = [10, 5, 4, 3, 48, 6, 2, 33, 53, 10]\n",
    "K = 4\n",
    "\n",
    "# Function call\n",
    "print(\"Kth Smallest Element is:\", kthSmallest(arr, K))\n"
   ]
  },
  {
   "cell_type": "code",
   "execution_count": null,
   "id": "6e05c045",
   "metadata": {},
   "outputs": [],
   "source": []
  }
 ],
 "metadata": {
  "kernelspec": {
   "display_name": "Python 3 (ipykernel)",
   "language": "python",
   "name": "python3"
  },
  "language_info": {
   "codemirror_mode": {
    "name": "ipython",
    "version": 3
   },
   "file_extension": ".py",
   "mimetype": "text/x-python",
   "name": "python",
   "nbconvert_exporter": "python",
   "pygments_lexer": "ipython3",
   "version": "3.10.12"
  }
 },
 "nbformat": 4,
 "nbformat_minor": 5
}
