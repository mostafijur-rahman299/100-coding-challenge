{
 "cells": [
  {
   "cell_type": "code",
   "execution_count": 29,
   "id": "e0f07151",
   "metadata": {},
   "outputs": [
    {
     "name": "stdout",
     "output_type": "stream",
     "text": [
      "[0, 2, 4, 6]\n"
     ]
    }
   ],
   "source": [
    "import collections\n",
    "\n",
    "s = \"ababababab\"\n",
    "p = \"aab\"\n",
    "\n",
    "ps = collections.Counter(p)\n",
    "\n",
    "l = 0\n",
    "r = len(p)\n",
    "\n",
    "indices = []\n",
    "\n",
    "while r <= len(s):    \n",
    "    if collections.Counter(s[l:r]) == ps:\n",
    "        indices.append(l)\n",
    "    \n",
    "    l += 1\n",
    "    r += 1\n",
    "\n",
    "print(indices)\n"
   ]
  },
  {
   "cell_type": "code",
   "execution_count": null,
   "id": "27607f80",
   "metadata": {},
   "outputs": [],
   "source": []
  }
 ],
 "metadata": {
  "kernelspec": {
   "display_name": "Python 3 (ipykernel)",
   "language": "python",
   "name": "python3"
  },
  "language_info": {
   "codemirror_mode": {
    "name": "ipython",
    "version": 3
   },
   "file_extension": ".py",
   "mimetype": "text/x-python",
   "name": "python",
   "nbconvert_exporter": "python",
   "pygments_lexer": "ipython3",
   "version": "3.10.12"
  }
 },
 "nbformat": 4,
 "nbformat_minor": 5
}
