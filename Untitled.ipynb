{
 "cells": [
  {
   "cell_type": "code",
   "execution_count": 17,
   "id": "b1aca7ca-36be-4f7d-8369-5ca5ee583a17",
   "metadata": {},
   "outputs": [
    {
     "name": "stdout",
     "output_type": "stream",
     "text": [
      "1\n",
      "[1, -3, 1, 1, 1]\n"
     ]
    }
   ],
   "source": [
    "nums = [7,8,9,11,12]\n",
    "max_item = len(nums)\n",
    "n = len(nums)\n",
    "\n",
    "contain_one = False\n",
    "for index, num in enumerate(nums):\n",
    "    if num == 1:\n",
    "        contain_one = True\n",
    "    if num > n or num <= 0:\n",
    "        nums[index] = 1\n",
    "\n",
    "if not contain_one: print(1)\n",
    "if n == 1: print(2)\n",
    "\n",
    "for num in nums:\n",
    "    nums[num] -= num\n",
    "\n",
    "for i in range(n):\n",
    "    if i > 0:\n",
    "        print(i+1)"
   ]
  },
  {
   "cell_type": "code",
   "execution_count": null,
   "id": "a1f82c79-b090-475a-a19a-643a7741a680",
   "metadata": {},
   "outputs": [],
   "source": []
  }
 ],
 "metadata": {
  "kernelspec": {
   "display_name": "Python 3 (ipykernel)",
   "language": "python",
   "name": "python3"
  },
  "language_info": {
   "codemirror_mode": {
    "name": "ipython",
    "version": 3
   },
   "file_extension": ".py",
   "mimetype": "text/x-python",
   "name": "python",
   "nbconvert_exporter": "python",
   "pygments_lexer": "ipython3",
   "version": "3.10.12"
  }
 },
 "nbformat": 4,
 "nbformat_minor": 5
}
