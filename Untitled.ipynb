{
 "cells": [
  {
   "cell_type": "code",
   "execution_count": 15,
   "id": "0abb6e73",
   "metadata": {},
   "outputs": [
    {
     "name": "stdout",
     "output_type": "stream",
     "text": [
      "[['a', 'a', 'b'], ['aa', 'b']]\n"
     ]
    }
   ],
   "source": [
    "s = \"aab\"\n",
    "res = []\n",
    "pal = []\n",
    "\n",
    "def isPali(s, l, r):\n",
    "    while l < r:\n",
    "        if s[l] != s[r]:\n",
    "            return False\n",
    "        l, r = l + 1, r - 1\n",
    "    return True\n",
    "\n",
    "def dfs(i):\n",
    "    if i >= len(s):\n",
    "        res.append(pal.copy())\n",
    "        return\n",
    "        \n",
    "    for j in range(i, len(s)):\n",
    "        if isPali(s, i, j):\n",
    "            pal.append(s[i:j+1])\n",
    "            dfs(j + 1)\n",
    "            pal.pop()\n",
    "\n",
    "dfs(0)\n",
    "\n",
    "print(res)"
   ]
  },
  {
   "cell_type": "code",
   "execution_count": null,
   "id": "1da5f3d9-0fad-478d-96c3-26b3d4fa3d2b",
   "metadata": {},
   "outputs": [],
   "source": []
  },
  {
   "cell_type": "code",
   "execution_count": null,
   "id": "e1ea6757-7e8c-41fe-9d7c-17b7a9beab11",
   "metadata": {},
   "outputs": [],
   "source": []
  }
 ],
 "metadata": {
  "kernelspec": {
   "display_name": "Python 3 (ipykernel)",
   "language": "python",
   "name": "python3"
  },
  "language_info": {
   "codemirror_mode": {
    "name": "ipython",
    "version": 3
   },
   "file_extension": ".py",
   "mimetype": "text/x-python",
   "name": "python",
   "nbconvert_exporter": "python",
   "pygments_lexer": "ipython3",
   "version": "3.10.12"
  }
 },
 "nbformat": 4,
 "nbformat_minor": 5
}
