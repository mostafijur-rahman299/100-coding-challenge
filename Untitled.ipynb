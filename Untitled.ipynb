{
 "cells": [
  {
   "cell_type": "code",
   "execution_count": 28,
   "id": "b1aca7ca-36be-4f7d-8369-5ca5ee583a17",
   "metadata": {},
   "outputs": [],
   "source": [
    "nums = [1,2,3,4]\n",
    "\n",
    "res = [1] * len(nums)\n",
    "\n",
    "prefix = 1\n",
    "for i in range(len(nums)):\n",
    "    res[i]=prefix\n",
    "    prefix*=nums[i]\n",
    "\n",
    "postfix = 1\n",
    "for j in range(len(nums)-1, -1, -1):\n",
    "    res[j]*=postfix\n",
    "    postfix *= nums[j]"
   ]
  },
  {
   "cell_type": "code",
   "execution_count": null,
   "id": "fe548aa9-630d-4ada-84f5-5fe4c8ba4024",
   "metadata": {},
   "outputs": [],
   "source": []
  }
 ],
 "metadata": {
  "kernelspec": {
   "display_name": "Python 3 (ipykernel)",
   "language": "python",
   "name": "python3"
  },
  "language_info": {
   "codemirror_mode": {
    "name": "ipython",
    "version": 3
   },
   "file_extension": ".py",
   "mimetype": "text/x-python",
   "name": "python",
   "nbconvert_exporter": "python",
   "pygments_lexer": "ipython3",
   "version": "3.10.12"
  }
 },
 "nbformat": 4,
 "nbformat_minor": 5
}
