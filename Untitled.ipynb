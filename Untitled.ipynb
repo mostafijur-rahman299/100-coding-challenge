{
 "cells": [
  {
   "cell_type": "code",
   "execution_count": 10,
   "id": "8e21fdfc",
   "metadata": {},
   "outputs": [
    {
     "name": "stdout",
     "output_type": "stream",
     "text": [
      "4\n"
     ]
    }
   ],
   "source": [
    "string = \"AAABCADBAABBBDRRDDAA\"\n",
    "count = {}\n",
    "window_start = 0\n",
    "result = 0\n",
    "k = 1\n",
    "\n",
    "for window_end in range(len(string)):\n",
    "    count[string[window_end]] = 1 + count.get(string[window_end], 0)\n",
    "    while window_end - window_start + 1 - max(count.values()) > k:\n",
    "        count[string[window_start]] -= 1\n",
    "        window_start += 1\n",
    "        \n",
    "    result = max(res, window_end - window_start + 1)\n",
    "    \n",
    "print(result)"
   ]
  },
  {
   "cell_type": "code",
   "execution_count": null,
   "id": "87533aae",
   "metadata": {},
   "outputs": [],
   "source": []
  }
 ],
 "metadata": {
  "kernelspec": {
   "display_name": "Python 3 (ipykernel)",
   "language": "python",
   "name": "python3"
  },
  "language_info": {
   "codemirror_mode": {
    "name": "ipython",
    "version": 3
   },
   "file_extension": ".py",
   "mimetype": "text/x-python",
   "name": "python",
   "nbconvert_exporter": "python",
   "pygments_lexer": "ipython3",
   "version": "3.10.12"
  }
 },
 "nbformat": 4,
 "nbformat_minor": 5
}
