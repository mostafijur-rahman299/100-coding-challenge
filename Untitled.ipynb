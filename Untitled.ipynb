{
 "cells": [
  {
   "cell_type": "code",
   "execution_count": 7,
   "id": "0abb6e73",
   "metadata": {},
   "outputs": [
    {
     "name": "stdout",
     "output_type": "stream",
     "text": [
      "[]\n"
     ]
    }
   ],
   "source": [
    "res =[]\n",
    "stack = []\n",
    "\n",
    "def backtrack(i):\n",
    "    if i >= len(nums):\n",
    "        res.append(stack.copy())\n",
    "        return\n",
    "\n",
    "    # decission to include\n",
    "    stack.append(nums[i])\n",
    "    backtrack(i+1)\n",
    "\n",
    "    # decission not to include\n",
    "    stack.pop()\n",
    "    backtrack(i+1)\n",
    "\n",
    "print(res)"
   ]
  },
  {
   "cell_type": "code",
   "execution_count": null,
   "id": "e1ea6757-7e8c-41fe-9d7c-17b7a9beab11",
   "metadata": {},
   "outputs": [],
   "source": []
  },
  {
   "cell_type": "code",
   "execution_count": null,
   "id": "ddf27bbb-2264-4172-a7f0-fb7642fca169",
   "metadata": {},
   "outputs": [],
   "source": []
  }
 ],
 "metadata": {
  "kernelspec": {
   "display_name": "Python 3 (ipykernel)",
   "language": "python",
   "name": "python3"
  },
  "language_info": {
   "codemirror_mode": {
    "name": "ipython",
    "version": 3
   },
   "file_extension": ".py",
   "mimetype": "text/x-python",
   "name": "python",
   "nbconvert_exporter": "python",
   "pygments_lexer": "ipython3",
   "version": "3.10.12"
  }
 },
 "nbformat": 4,
 "nbformat_minor": 5
}
