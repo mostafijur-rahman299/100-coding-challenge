{
 "cells": [
  {
   "cell_type": "code",
   "execution_count": 22,
   "id": "cfbe1eae",
   "metadata": {},
   "outputs": [
    {
     "name": "stdout",
     "output_type": "stream",
     "text": [
      "16\n",
      "8\n",
      "12\n",
      "14\n",
      "13\n",
      "14\n"
     ]
    }
   ],
   "source": [
    "nums = [3,2,1,5,6,4, 12, 13, 31] \n",
    "k = 1\n",
    "\n",
    "def count(nums, target):\n",
    "    cnt = 0\n",
    "    for num in nums:\n",
    "        if num >= target:\n",
    "            cnt += 1\n",
    "    return cnt\n",
    "\n",
    "high = max(nums)\n",
    "low = min(nums)\n",
    "\n",
    "while high > low:\n",
    "    mid = low + (high-low) // 2\n",
    "    print(mid)\n",
    "    if count(nums, mid) < k:\n",
    "        low = mid + 1\n",
    "    else:\n",
    "        high = mid\n",
    "print(low)\n"
   ]
  },
  {
   "cell_type": "code",
   "execution_count": null,
   "id": "1641915e",
   "metadata": {},
   "outputs": [],
   "source": []
  }
 ],
 "metadata": {
  "kernelspec": {
   "display_name": "Python 3 (ipykernel)",
   "language": "python",
   "name": "python3"
  },
  "language_info": {
   "codemirror_mode": {
    "name": "ipython",
    "version": 3
   },
   "file_extension": ".py",
   "mimetype": "text/x-python",
   "name": "python",
   "nbconvert_exporter": "python",
   "pygments_lexer": "ipython3",
   "version": "3.10.12"
  }
 },
 "nbformat": 4,
 "nbformat_minor": 5
}
