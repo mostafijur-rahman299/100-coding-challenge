{
 "cells": [
  {
   "cell_type": "code",
   "execution_count": 10,
   "id": "b1aca7ca-36be-4f7d-8369-5ca5ee583a17",
   "metadata": {},
   "outputs": [
    {
     "name": "stdout",
     "output_type": "stream",
     "text": [
      "2 3-4*5\n",
      "3 4*5\n",
      "4 5\n",
      "[4] * [5]\n",
      "[3] - [20]\n",
      "3-4 5\n",
      "3 4\n",
      "[3] - [4]\n",
      "[-1] * [5]\n",
      "[2] * [-17, -5]\n",
      "2*3 4*5\n",
      "2 3\n",
      "[2] * [3]\n",
      "4 5\n",
      "[4] * [5]\n",
      "[6] - [20]\n",
      "2*3-4 5\n",
      "2 3-4\n",
      "3 4\n",
      "[3] - [4]\n",
      "[2] * [-1]\n",
      "2*3 4\n",
      "2 3\n",
      "[2] * [3]\n",
      "[6] - [4]\n",
      "[-2, 2] * [5]\n"
     ]
    },
    {
     "data": {
      "text/plain": [
       "[-34, -10, -14, -10, 10]"
      ]
     },
     "execution_count": 10,
     "metadata": {},
     "output_type": "execute_result"
    }
   ],
   "source": [
    "expression = \"2*3-4*5\"\n",
    "def calc(num1, num2, op):\n",
    "    if op == \"+\": return num1 + num2\n",
    "    if op == \"-\": return num1 - num2\n",
    "    return num1 * num2\n",
    "\n",
    "\n",
    "\n",
    "\n",
    "\n",
    "\n",
    "\n",
    "\n",
    "\n",
    "\n",
    "\n",
    "\n",
    "def dfs(expression):\n",
    "    computed = []\n",
    "    \n",
    "    for i, ch in enumerate(expression):\n",
    "        if ch in \"+-*\":\n",
    "            left_exp = expression[:i]\n",
    "            right_exp = expression[i+1:]\n",
    "\n",
    "            print(left_exp, right_exp)\n",
    "\n",
    "            computed_left = dfs(left_exp)\n",
    "            computed_right = dfs(right_exp)\n",
    "\n",
    "            print(computed_left, ch, computed_right)\n",
    "\n",
    "            for e1 in computed_left:\n",
    "                for e2 in computed_right:\n",
    "                    computed.append(calc(e1,e2,ch))\n",
    "                    \n",
    "    if not computed: return [int(expression)]\n",
    "        \n",
    "    return computed\n",
    "\n",
    "\n",
    "dfs(expression)"
   ]
  },
  {
   "cell_type": "code",
   "execution_count": null,
   "id": "a1f82c79-b090-475a-a19a-643a7741a680",
   "metadata": {},
   "outputs": [],
   "source": []
  }
 ],
 "metadata": {
  "kernelspec": {
   "display_name": "Python 3 (ipykernel)",
   "language": "python",
   "name": "python3"
  },
  "language_info": {
   "codemirror_mode": {
    "name": "ipython",
    "version": 3
   },
   "file_extension": ".py",
   "mimetype": "text/x-python",
   "name": "python",
   "nbconvert_exporter": "python",
   "pygments_lexer": "ipython3",
   "version": "3.10.12"
  }
 },
 "nbformat": 4,
 "nbformat_minor": 5
}
