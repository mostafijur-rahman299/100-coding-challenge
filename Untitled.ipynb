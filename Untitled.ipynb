{
 "cells": [
  {
   "cell_type": "code",
   "execution_count": 30,
   "id": "b1d88737",
   "metadata": {},
   "outputs": [
    {
     "data": {
      "text/plain": [
       "6"
      ]
     },
     "execution_count": 30,
     "metadata": {},
     "output_type": "execute_result"
    }
   ],
   "source": [
    "from random import randint\n",
    "\n",
    "def partition(arr, low, high, pivIndex):\n",
    "    pivot = arr[pivIndex]\n",
    "    i = low\n",
    "    \n",
    "    # Pivot move to last position\n",
    "    arr[high], arr[pivIndex] = arr[pivIndex], arr[high]\n",
    "    \n",
    "    for j in range(low, high):\n",
    "        if arr[j] > pivot:\n",
    "            arr[i], arr[j] = arr[j], arr[i]\n",
    "            i += 1\n",
    "            \n",
    "    # Pivot move to it's currect position\n",
    "    arr[i], arr[high] = arr[high], arr[i]\n",
    "    return i\n",
    "\n",
    "\n",
    "nums = [3,1,2,5,6,4]\n",
    "k = 1\n",
    "\n",
    "def quickselect(arr, low, high, k):\n",
    "    if low == high:\n",
    "        return arr[low]\n",
    "    \n",
    "    pivIndex = randint(low, high)\n",
    "    pivIndex = partition(arr, low, high, pivIndex)\n",
    "    \n",
    "    if pivIndex == k-1:\n",
    "        return arr[k-1]\n",
    "    \n",
    "    elif k > pivIndex:\n",
    "        return quickselect(arr, pivIndex+1, high, k)\n",
    "    else:\n",
    "        return quickselect(arr, low, pivIndex, k)\n",
    "    \n",
    "    return -1\n",
    "        \n",
    "\n",
    "quickselect(nums, 0, len(nums)-1, k) \n",
    "        "
   ]
  },
  {
   "cell_type": "code",
   "execution_count": null,
   "id": "d219f43c",
   "metadata": {},
   "outputs": [],
   "source": []
  }
 ],
 "metadata": {
  "kernelspec": {
   "display_name": "Python 3 (ipykernel)",
   "language": "python",
   "name": "python3"
  },
  "language_info": {
   "codemirror_mode": {
    "name": "ipython",
    "version": 3
   },
   "file_extension": ".py",
   "mimetype": "text/x-python",
   "name": "python",
   "nbconvert_exporter": "python",
   "pygments_lexer": "ipython3",
   "version": "3.10.12"
  }
 },
 "nbformat": 4,
 "nbformat_minor": 5
}
