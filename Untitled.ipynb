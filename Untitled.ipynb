{
 "cells": [
  {
   "cell_type": "code",
   "execution_count": 19,
   "id": "426f6d62",
   "metadata": {},
   "outputs": [],
   "source": [
    "nums1 = [1,2,3,0,0,0]\n",
    "nums2 = [2,5,6]\n",
    "\n",
    "m, n = 3, 3\n",
    "\n",
    "        \n",
    "a, b, write_index = m-1, n-1, m+n-1\n",
    "while b >= 0:\n",
    "    if a >= 0 and nums1[a] > nums2[b]:\n",
    "        nums1[write_index] = nums1[a]\n",
    "        a -= 1\n",
    "    else:\n",
    "        nums1[write_index] = nums2[b]\n",
    "        b -= 1\n",
    "    write_index -= 1\n"
   ]
  },
  {
   "cell_type": "code",
   "execution_count": null,
   "id": "39baa0f7",
   "metadata": {},
   "outputs": [],
   "source": []
  }
 ],
 "metadata": {
  "kernelspec": {
   "display_name": "Python 3 (ipykernel)",
   "language": "python",
   "name": "python3"
  },
  "language_info": {
   "codemirror_mode": {
    "name": "ipython",
    "version": 3
   },
   "file_extension": ".py",
   "mimetype": "text/x-python",
   "name": "python",
   "nbconvert_exporter": "python",
   "pygments_lexer": "ipython3",
   "version": "3.10.12"
  }
 },
 "nbformat": 4,
 "nbformat_minor": 5
}
