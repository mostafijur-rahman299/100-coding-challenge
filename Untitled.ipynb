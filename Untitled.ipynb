{
 "cells": [
  {
   "cell_type": "code",
   "execution_count": 6,
   "id": "74160796",
   "metadata": {},
   "outputs": [
    {
     "name": "stdout",
     "output_type": "stream",
     "text": [
      "[1, 4, 6, 1, 1, 5, 7]\n"
     ]
    }
   ],
   "source": [
    "\n",
    "nums = [1,4,5,7,6,1,1]\n",
    "\n",
    "# Find index where is decrese from end\n",
    "i = len(nums) - 2\n",
    "while i >= 0 and nums[i] >= nums[i+1]:\n",
    "    i -= 1\n",
    "\n",
    "\n",
    "if i >= 0:\n",
    "    # Find imidiate greater number and then swap\n",
    "    j = len(nums) - 1\n",
    "    while j >= 0 and nums[j] <= nums[i]:\n",
    "        j -= 1\n",
    "        \n",
    "    # Swap number\n",
    "    nums[i], nums[j] = nums[j], nums[i]\n",
    "    \n",
    "# Reverse rest of number after swap\n",
    "start = i + 1\n",
    "end = len(nums)-1\n",
    "\n",
    "while start <= end:\n",
    "    nums[start], nums[end] = nums[end], nums[start]\n",
    "    start += 1\n",
    "    end -= 1\n",
    "    \n",
    "print(nums)"
   ]
  },
  {
   "cell_type": "code",
   "execution_count": null,
   "id": "4695454b",
   "metadata": {},
   "outputs": [],
   "source": []
  },
  {
   "cell_type": "code",
   "execution_count": null,
   "id": "8d5dee72",
   "metadata": {},
   "outputs": [],
   "source": []
  }
 ],
 "metadata": {
  "kernelspec": {
   "display_name": "Python 3 (ipykernel)",
   "language": "python",
   "name": "python3"
  },
  "language_info": {
   "codemirror_mode": {
    "name": "ipython",
    "version": 3
   },
   "file_extension": ".py",
   "mimetype": "text/x-python",
   "name": "python",
   "nbconvert_exporter": "python",
   "pygments_lexer": "ipython3",
   "version": "3.10.12"
  }
 },
 "nbformat": 4,
 "nbformat_minor": 5
}
