{
 "cells": [
  {
   "cell_type": "code",
   "execution_count": 22,
   "id": "fe85463e",
   "metadata": {},
   "outputs": [
    {
     "name": "stdout",
     "output_type": "stream",
     "text": [
      "[0, 0, 0, 0, 0, 0, 0, 0, 0, 0, 0, 0, 0, 0]\n",
      "repeating number===== 1\n",
      "missing number ===== 14\n"
     ]
    }
   ],
   "source": [
    "arr = [12,7,5,1,13,1,10,8,11,9,2,4,3,6]\n",
    "n = 14\n",
    "\n",
    "temp = [0]*n\n",
    "repeating = 0\n",
    "missing=0\n",
    "\n",
    "for i in range(n):\n",
    "    temp[arr[i]-1] += 1\n",
    "    \n",
    "for i in range(len(temp)):\n",
    "    if temp[i] > 1:\n",
    "        repeating = i + 1\n",
    "    elif temp[i] < 1:\n",
    "        missing = i + 1\n"
   ]
  },
  {
   "cell_type": "code",
   "execution_count": null,
   "id": "3ebad1e4",
   "metadata": {},
   "outputs": [],
   "source": []
  }
 ],
 "metadata": {
  "kernelspec": {
   "display_name": "Python 3 (ipykernel)",
   "language": "python",
   "name": "python3"
  },
  "language_info": {
   "codemirror_mode": {
    "name": "ipython",
    "version": 3
   },
   "file_extension": ".py",
   "mimetype": "text/x-python",
   "name": "python",
   "nbconvert_exporter": "python",
   "pygments_lexer": "ipython3",
   "version": "3.10.12"
  }
 },
 "nbformat": 4,
 "nbformat_minor": 5
}
