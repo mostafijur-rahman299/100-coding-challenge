{
 "cells": [
  {
   "cell_type": "code",
   "execution_count": 32,
   "id": "7c5414ee",
   "metadata": {},
   "outputs": [
    {
     "name": "stdout",
     "output_type": "stream",
     "text": [
      "4\n",
      "14\n",
      "13\n",
      "12\n",
      "3\n",
      "-12\n",
      "6\n",
      "8\n",
      "2\n",
      "11\n",
      "7\n",
      "1\n",
      "5\n",
      "1\n",
      "[-12, -7, -5, -1, -13, -1, -14, -8, -11, 9, -2, -4, -3, -6]\n"
     ]
    }
   ],
   "source": [
    "arr = [12,7,5,1,13,1,14,8,11,9,2,4,3,6]\n",
    "n = 14\n",
    "\n",
    "for i in range(n):\n",
    "    if arr[abs(arr[i])-1] > 0:\n",
    "        arr[abs(arr[i])-1] = -arr[abs(arr[i])-1]\n",
    "    else:\n",
    "        print(\"The repeating element is \", abs(arr[i]))\n",
    "\n",
    "for i in range(n):\n",
    "    if arr[i]>0:\n",
    "        print(\"and the missing element is \", i + 1)\n",
    "\n",
    "print(arr)\n"
   ]
  },
  {
   "cell_type": "code",
   "execution_count": null,
   "id": "1f121d0f",
   "metadata": {},
   "outputs": [],
   "source": []
  }
 ],
 "metadata": {
  "kernelspec": {
   "display_name": "Python 3 (ipykernel)",
   "language": "python",
   "name": "python3"
  },
  "language_info": {
   "codemirror_mode": {
    "name": "ipython",
    "version": 3
   },
   "file_extension": ".py",
   "mimetype": "text/x-python",
   "name": "python",
   "nbconvert_exporter": "python",
   "pygments_lexer": "ipython3",
   "version": "3.10.12"
  }
 },
 "nbformat": 4,
 "nbformat_minor": 5
}
